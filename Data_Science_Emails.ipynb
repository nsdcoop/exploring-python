{
 "cells": [
  {
   "cell_type": "markdown",
   "metadata": {},
   "source": [
    "## Problem 71\n",
    "\n",
    "Below is a snippet from a table that contains information about employees that work at Company XYZ: \n",
    "\n",
    "| employee_name\t| employee_id\t| date_joined\t| age\t| yrs_of_experience |\n",
    "|---------------|---------------|---------------|-------|-------------------|\n",
    "| Andy\t| 123456\t| 2015-02-15\t| 45\t| 24 |\n",
    "| Beth\t| 789456\t| 2014-02-15\t| 36\t| 15 |\n",
    "| Cindy\t| 654123\t| 2017-05-16\t| 34\t| 14 |\n",
    "| Dale\t| 963852\t| 2018-01-15\t| 25\t| 4 |\n",
    "\n",
    "Company XYZ is looking to create a report that tracks the tenure of its employees. Using Python, write a snippet to add a column with each individual's years of experience. You can assume the current date is January 1st, 2019. All records in the table are shown in YYYY-MM-DD format."
   ]
  },
  {
   "cell_type": "code",
   "execution_count": 39,
   "metadata": {},
   "outputs": [
    {
     "data": {
      "text/html": [
       "<div>\n",
       "<style scoped>\n",
       "    .dataframe tbody tr th:only-of-type {\n",
       "        vertical-align: middle;\n",
       "    }\n",
       "\n",
       "    .dataframe tbody tr th {\n",
       "        vertical-align: top;\n",
       "    }\n",
       "\n",
       "    .dataframe thead th {\n",
       "        text-align: right;\n",
       "    }\n",
       "</style>\n",
       "<table border=\"1\" class=\"dataframe\">\n",
       "  <thead>\n",
       "    <tr style=\"text-align: right;\">\n",
       "      <th></th>\n",
       "      <th>employee_name</th>\n",
       "      <th>employee_id</th>\n",
       "      <th>date_joined</th>\n",
       "      <th>age</th>\n",
       "      <th>yrs_of_experience</th>\n",
       "      <th>yrs_here</th>\n",
       "    </tr>\n",
       "  </thead>\n",
       "  <tbody>\n",
       "    <tr>\n",
       "      <th>0</th>\n",
       "      <td>Andy</td>\n",
       "      <td>123456</td>\n",
       "      <td>2015-02-15</td>\n",
       "      <td>45</td>\n",
       "      <td>24</td>\n",
       "      <td>4</td>\n",
       "    </tr>\n",
       "    <tr>\n",
       "      <th>1</th>\n",
       "      <td>Beth</td>\n",
       "      <td>789456</td>\n",
       "      <td>2014-02-15</td>\n",
       "      <td>36</td>\n",
       "      <td>15</td>\n",
       "      <td>5</td>\n",
       "    </tr>\n",
       "    <tr>\n",
       "      <th>2</th>\n",
       "      <td>Cindy</td>\n",
       "      <td>654123</td>\n",
       "      <td>2017-05-16</td>\n",
       "      <td>34</td>\n",
       "      <td>14</td>\n",
       "      <td>2</td>\n",
       "    </tr>\n",
       "    <tr>\n",
       "      <th>3</th>\n",
       "      <td>Dale</td>\n",
       "      <td>963852</td>\n",
       "      <td>2018-01-15</td>\n",
       "      <td>25</td>\n",
       "      <td>4</td>\n",
       "      <td>1</td>\n",
       "    </tr>\n",
       "  </tbody>\n",
       "</table>\n",
       "</div>"
      ],
      "text/plain": [
       "  employee_name  employee_id date_joined  age  yrs_of_experience  yrs_here\n",
       "0          Andy       123456  2015-02-15   45                 24         4\n",
       "1          Beth       789456  2014-02-15   36                 15         5\n",
       "2         Cindy       654123  2017-05-16   34                 14         2\n",
       "3          Dale       963852  2018-01-15   25                  4         1"
      ]
     },
     "execution_count": 39,
     "metadata": {},
     "output_type": "execute_result"
    }
   ],
   "source": [
    "import pandas as pd\n",
    "import datetime\n",
    "\n",
    "dic = {'employee_name':['Andy', 'Beth', 'Cindy', 'Dale'], \n",
    "      'employee_id': [123456, 789456, 654123, 963852], \n",
    "      'date_joined':['2015-02-15', '2014-02-15', '2017-05-16', '2018-01-15'], \n",
    "      'age':[45, 36, 34, 25], \n",
    "      'yrs_of_experience':[24, 15, 14, 4]}\n",
    "\n",
    "df_in = pd.DataFrame(dic)\n",
    "\n",
    "now = datetime.datetime.now()\n",
    "year = int(now.date().strftime(\"%Y\"))\n",
    "\n",
    "yrs_here = [year - int(y.split('-')[0]) for y in df_in['date_joined'].values]\n",
    "df_in[\"yrs_here\"] = yrs_here\n",
    "\n",
    "df_in"
   ]
  },
  {
   "cell_type": "markdown",
   "metadata": {},
   "source": [
    "## Problem 63\n",
    "\n",
    "Suppose you are given a dataset of [Baby names](https://raw.githubusercontent.com/guipsamora/pandas_exercises/master/06_Stats/US_Baby_Names/US_Baby_Names_right.csv). Using the dataset, you're tasked with figuring out the top boy and girl names in 2009.\n",
    "\n",
    "Can you describe how you would do this using Python Pandas? The solution will be Python code which walks through the logic and calculation."
   ]
  },
  {
   "cell_type": "code",
   "execution_count": 2,
   "metadata": {},
   "outputs": [],
   "source": [
    "import pandas as pd\n",
    "path = \"https://raw.githubusercontent.com/guipsamora/pandas_exercises/master/06_Stats/US_Baby_Names/US_Baby_Names_right.csv\"\n",
    "\n",
    "df = pd.read_csv(path)\n"
   ]
  },
  {
   "cell_type": "code",
   "execution_count": 20,
   "metadata": {},
   "outputs": [
    {
     "name": "stdout",
     "output_type": "stream",
     "text": [
      "Isabella 22278\n"
     ]
    }
   ],
   "source": [
    "year = 2009\n",
    "timeframe = df.loc[df['Year']==year]\n",
    "names_count = {}\n",
    "m = 0\n",
    "n = None\n",
    "for i in range(len(timeframe)):\n",
    "    name = timeframe[\"Name\"].values[i]\n",
    "    count = timeframe[\"Count\"].values[i]\n",
    "    \n",
    "    if name not in names_count:\n",
    "        names_count[name] = count\n",
    "    else:\n",
    "        names_count[name] += count\n",
    "        \n",
    "    if names_count[name] > m:\n",
    "        m = names_count[name]\n",
    "        n = name\n",
    "        \n",
    "print(n, m)"
   ]
  }
 ],
 "metadata": {
  "kernelspec": {
   "display_name": "Python 3",
   "language": "python",
   "name": "python3"
  },
  "language_info": {
   "codemirror_mode": {
    "name": "ipython",
    "version": 3
   },
   "file_extension": ".py",
   "mimetype": "text/x-python",
   "name": "python",
   "nbconvert_exporter": "python",
   "pygments_lexer": "ipython3",
   "version": "3.7.1"
  }
 },
 "nbformat": 4,
 "nbformat_minor": 2
}
