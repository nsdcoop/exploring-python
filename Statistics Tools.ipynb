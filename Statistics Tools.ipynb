{
 "cells": [
  {
   "cell_type": "code",
   "execution_count": 1,
   "metadata": {},
   "outputs": [],
   "source": [
    "import numpy as np\n",
    "import matplotlib.pyplot as plt\n",
    "from scipy.integrate import quad\n",
    "from scipy.interpolate import interp1d\n",
    "from scipy.optimize import curve_fit, fsolve"
   ]
  },
  {
   "cell_type": "markdown",
   "metadata": {},
   "source": [
    "## Calculate Mean and Standard Deviation from a Data Set"
   ]
  },
  {
   "cell_type": "code",
   "execution_count": 138,
   "metadata": {},
   "outputs": [
    {
     "name": "stdout",
     "output_type": "stream",
     "text": [
      "Mean = 17.714285714285715\n",
      "Stdev = 4.46147530585589\n"
     ]
    }
   ],
   "source": [
    "data = np.array([12, 13, 15, 19, 20, 21, 24])\n",
    "\n",
    "n = len(data)\n",
    "mu = np.sum(data)/n\n",
    "p = np.empty(len(data))\n",
    "for i in range(len(data)):\n",
    "    p[i] = (data[i]-mu)**2    \n",
    "s = np.sqrt((1/(n-1))*(np.sum(p)))\n",
    "\n",
    "print('Mean =', mu)\n",
    "print('Stdev =', s)"
   ]
  },
  {
   "cell_type": "markdown",
   "metadata": {},
   "source": [
    "## Confidence Intervals\n",
    "* For student t distributions use z for the t-value from the table\n",
    "* If you need to calculate the mean and standard deviation yourself use the \"data\" array with the \"mu\" and \"s\" equations behind the \"#\"s"
   ]
  },
  {
   "cell_type": "code",
   "execution_count": 28,
   "metadata": {},
   "outputs": [
    {
     "name": "stdout",
     "output_type": "stream",
     "text": [
      "lower bound = 0.11306993997195369\n",
      "upper bound = 0.6069300600280463\n",
      "interval = 0.2469300600280463\n",
      "---------------------------------\n",
      "sample size = 5\n"
     ]
    }
   ],
   "source": [
    "#Confidence Intervals Stats 201\n",
    "#for student t distributions use z for the t value from the table\n",
    "#if you need to calculate the mean and standard deviation yourself use the data array with the mu and s equations behind the #\n",
    "\n",
    "data = np.array([-.23, .19, .61, -.11, .02, 1.12, .3, .63, .65, .59, .19])\n",
    "\"\"\"-0.23\n",
    "0.19\n",
    "0.61\n",
    "-0.11\n",
    "0.02\n",
    "1.12\n",
    "0.3\n",
    "0.63\n",
    "0.65\n",
    "0.59\n",
    "0.19\n",
    "\"\"\"\n",
    "z = 2.05\n",
    "\n",
    "n = 11\n",
    "#mu = 4.5\n",
    "#s = .15*np.sqrt(n)\n",
    "mu = np.sum(data)/n\n",
    "p = np.empty(len(data))\n",
    "for i in range(len(data)):\n",
    "    p[i] = (data[i]-mu)**2    \n",
    "s = np.sqrt((1/(n-1))*(np.sum(p)))\n",
    "\n",
    "def conf(z):\n",
    "    return z*s/np.sqrt(n)\n",
    "c = conf(z)\n",
    "def bounds(c):\n",
    "    return np.array([mu-c, mu+c])\n",
    "print('lower bound =', bounds(c)[0])\n",
    "print('upper bound =', bounds(c)[1])\n",
    "print('interval =', conf(z))\n",
    "print('---------------------------------')\n",
    "#------------------------------------------------\n",
    "#specify sample size\n",
    "m = .35\n",
    "\n",
    "def sampsize(m):\n",
    "    return (z*s/m)**2\n",
    "\n",
    "print('sample size =', int(sampsize(m)+.5))\n"
   ]
  },
  {
   "cell_type": "markdown",
   "metadata": {},
   "source": [
    "## General code for Z-score and Probability\n",
    "* Copy and paste - change variable names as needed"
   ]
  },
  {
   "cell_type": "code",
   "execution_count": 31,
   "metadata": {},
   "outputs": [
    {
     "name": "stdout",
     "output_type": "stream",
     "text": [
      "For a one-tailed test\n",
      "---------------------------------\n",
      "  Z =  3.2998316455372354\n",
      "\n",
      "  Probability from above:\n",
      "     P = 0.0005\n",
      "  Probability from below:\n",
      "     P = 0.9995\n",
      "\n",
      "For a two-tailed test\n",
      "---------------------------------\n",
      "  Z =  3.2998316455372354\n",
      "\n",
      "  Probability from above:\n",
      "     P = 0.001\n",
      "  Probability from below:\n",
      "     P = 1.999\n",
      "---------------------------------\n",
      "\n"
     ]
    },
    {
     "data": {
      "image/png": "[encoded data removed]",
      "text/plain": [
       "<Figure size 432x288 with 2 Axes>"
      ]
     },
     "metadata": {
      "needs_background": "light"
     },
     "output_type": "display_data"
    }
   ],
   "source": [
    "#General code for Zscore and Probability - Copy and paste - Change variable names as needed\n",
    "\n",
    "mu0 = 4.5\n",
    "s = .15\n",
    "n = 50\n",
    "X = 4.57\n",
    "\n",
    "def Z(x):\n",
    "    return (x-mu0)/(s/np.sqrt(n))\n",
    "\n",
    "#Building a function for pdf and standard normal distribution\n",
    "a = np.linspace((X-(2*s)), (X+2*s), 100)\n",
    "b = np.linspace(Z(mu0-s), Z(mu0+s), 100)\n",
    "\n",
    "def N(x):\n",
    "    return 1/(s*np.sqrt(2*np.pi))*np.exp(-(x-mu0)**2/(2*s**2))\n",
    "def S(x):\n",
    "    return np.exp(-x**2/2)/np.sqrt(2*np.pi)\n",
    "\n",
    "#Probability from above\n",
    "Pa, erra = quad(S, round(Z(X), 2), 100)\n",
    "#Probability from below\n",
    "Pb, errb = quad(S, -100, round(Z(X), 2))\n",
    "\n",
    "#Print statements----------------------------------------------------\n",
    "\n",
    "print('For a one-tailed test')\n",
    "print('---------------------------------')\n",
    "print('  Z = ', Z(X))\n",
    "print()\n",
    "print('  Probability from above:\\n     P =', round(Pa, 4))\n",
    "print('  Probability from below:\\n     P =', round(Pb, 4))\n",
    "print()\n",
    "print('For a two-tailed test')\n",
    "print('---------------------------------')\n",
    "print('  Z = ', Z(X))\n",
    "print()\n",
    "print('  Probability from above:\\n     P =', 2*round(Pa, 4))\n",
    "print('  Probability from below:\\n     P =', 2*round(Pb, 4))\n",
    "print('---------------------------------')\n",
    "print()\n",
    "\n",
    "\n",
    "#Graphs--------------------------------------------------------------\n",
    "plt.subplot(1,2,1)\n",
    "plt.plot(a, N(a))\n",
    "plt.title('Probability Density Function')\n",
    "plt.legend('N(a)')\n",
    "plt.xlabel('Mean')\n",
    "\n",
    "plt.subplot(1,2,2)\n",
    "plt.plot(b, S(b), 'r')\n",
    "plt.title('Standard Normal Distribution')\n",
    "plt.legend('S(b)')\n",
    "plt.xlabel('Z');\n",
    "\n"
   ]
  },
  {
   "cell_type": "markdown",
   "metadata": {},
   "source": [
    "## Hypothesis Test\n",
    "\n",
    "* Tools for running hypothesis tests"
   ]
  },
  {
   "cell_type": "code",
   "execution_count": 29,
   "metadata": {},
   "outputs": [
    {
     "name": "stdout",
     "output_type": "stream",
     "text": [
      "For a one-tailed test\n",
      "---------------------------------\n",
      "  Zts =  3.1139813388842006\n",
      "\n",
      "  Probability from above:\n",
      "     P = 0.0009\n",
      "  Probability from below:\n",
      "     P = 0.9991\n",
      "\n",
      "For a two-tailed test\n",
      "---------------------------------\n",
      "  Zts =  3.1139813388842006\n",
      "\n",
      "  Probability from above:\n",
      "     P = 0.0018\n",
      "  Probability from below:\n",
      "     P = 1.9982\n",
      "---------------------------------\n",
      "\n"
     ]
    },
    {
     "data": {
      "image/png": "[encoded data removed]",
      "text/plain": [
       "<Figure size 432x288 with 2 Axes>"
      ]
     },
     "metadata": {
      "needs_background": "light"
     },
     "output_type": "display_data"
    }
   ],
   "source": [
    "mu0 = 7.618181818\n",
    "s = 0.383427129\n",
    "n = 11\n",
    "X = 7.978181818\n",
    "\n",
    "def Zts(x):\n",
    "    return (x-mu0)/(s/np.sqrt(n))\n",
    "\n",
    "#Building a function for pdf and standard normal distribution\n",
    "a = np.linspace((X-(2*s)), (X+2*s), 100)\n",
    "b = np.linspace(Zts(mu0-s), Zts(mu0+s), 100)\n",
    "\n",
    "def N(x):\n",
    "    return 1/(s*np.sqrt(2*np.pi))*np.exp(-(x-mu0)**2/(2*s**2))\n",
    "def S(x):\n",
    "    return np.exp(-x**2/2)/np.sqrt(2*np.pi)\n",
    "\n",
    "#Probability from above\n",
    "Pa, erra = quad(S, round(Zts(X), 2), 100)\n",
    "#Probability from below\n",
    "Pb, errb = quad(S, -100, round(Zts(X), 2))\n",
    "\n",
    "print('For a one-tailed test')\n",
    "print('---------------------------------')\n",
    "print('  Zts = ', Zts(X))\n",
    "print()\n",
    "print('  Probability from above:\\n     P =', round(Pa, 4))\n",
    "print('  Probability from below:\\n     P =', round(Pb, 4))\n",
    "print()\n",
    "print('For a two-tailed test')\n",
    "print('---------------------------------')\n",
    "print('  Zts = ', Zts(X))\n",
    "print()\n",
    "print('  Probability from above:\\n     P =', 2*round(Pa, 4))\n",
    "print('  Probability from below:\\n     P =', 2*round(Pb, 4))\n",
    "print('---------------------------------')\n",
    "print()\n",
    "\n",
    "plt.subplot(1,2,1)\n",
    "plt.plot(a, N(a))\n",
    "plt.title('Probability Density Function')\n",
    "plt.legend('N(a)')\n",
    "plt.xlabel('Mean')\n",
    "\n",
    "plt.subplot(1,2,2)\n",
    "plt.plot(b, S(b), 'r')\n",
    "plt.title('Standard Normal Distribution')\n",
    "plt.legend('S(b)')\n",
    "plt.xlabel('Zts');"
   ]
  },
  {
   "cell_type": "markdown",
   "metadata": {},
   "source": [
    "## Finding Z-score given the P-value\n",
    "* And determining whether the result is statistically significant"
   ]
  },
  {
   "cell_type": "code",
   "execution_count": 62,
   "metadata": {},
   "outputs": [
    {
     "name": "stdout",
     "output_type": "stream",
     "text": [
      "Result is not statistically significant - Fail to reject null hypothesis H0\n",
      "    |Z-score| = 1.64\n",
      "    |Z-critical point| = 1.96\n",
      "Z-score above = 1.64\n",
      "Z-score below = -1.64\n"
     ]
    }
   ],
   "source": [
    "#Finding Z-score given the p-value\n",
    "\n",
    "def S(x):\n",
    "    return np.exp(-x**2/2)/np.sqrt(2*np.pi)\n",
    "\n",
    "#Enter Z-Score given P\n",
    "#Pagiven =\n",
    "Pbgiven = Pagiven = .05\n",
    "Critical_point = .025     #Level of significance alpha\n",
    "\n",
    "def ZfromPa(x):\n",
    "    return quad(S, x, 100)[0] - Pagiven\n",
    "def ZfromPb(x):\n",
    "    return quad(S, -100, x)[0] - Pbgiven\n",
    "def Cpoint(x):\n",
    "    return quad(S, -100, x)[0] - Critical_point\n",
    "\n",
    "xguess = 1\n",
    "Za = fsolve(ZfromPa, xguess)[0]\n",
    "Zb = fsolve(ZfromPb, xguess)[0]\n",
    "CP = fsolve(Cpoint, xguess)[0]\n",
    "\n",
    "if np.abs(Zb)>=np.abs(CP):\n",
    "    print(\"Result is statistically significant - Reject null hypothesis H0\")\n",
    "else:\n",
    "    print(\"Result is not statistically significant - Fail to reject null hypothesis H0\")\n",
    "\n",
    "print('    |Z-score| =', round(np.abs(Zb), 2))\n",
    "print('    |Z-critical point| =', round(np.abs(CP), 2))\n",
    "print('Z-score above =', round(Za, 2))\n",
    "print('Z-score below =', round(Zb, 2))"
   ]
  },
  {
   "cell_type": "markdown",
   "metadata": {},
   "source": [
    "## Small Sample Test for $\\mu$\n",
    "* PROBLEM - I don't have a formula for the t-distribution.  It is too complicated.  Just use Excel haha"
   ]
  },
  {
   "cell_type": "code",
   "execution_count": 30,
   "metadata": {},
   "outputs": [
    {
     "name": "stdout",
     "output_type": "stream",
     "text": [
      "Result is not statistically significant - Fail to reject null hypothesis\n",
      "5.953539362847675\n"
     ]
    }
   ],
   "source": [
    "#d = np.array([93.2, 87, 92.1, 90.1, 87.3, 93.6])\n",
    "#l = np.empty(len(d))\n",
    "#for i in range(len(d)):\n",
    "#    l[i] = (d[i]-X)**2 \n",
    "#s = np.sqrt((1/(n-1))*(np.sum(l)))\n",
    "\n",
    "X = 15.01875\n",
    "mu0 = 14.6125\n",
    "s = 0.272946881\n",
    "n = 16\n",
    "df = n-1\n",
    "#Enter from Table A.3\n",
    "alpha = .01\n",
    "p = .5\n",
    "\n",
    "def ts(x):\n",
    "    return (x-mu0)/(s/np.sqrt(n))\n",
    "\n",
    "h = np.linspace((X-(2*s)), (X+2*s), 100)\n",
    "f = np.linspace(ts(mu0-s), ts(mu0+s), 100)\n",
    "\n",
    "if p <= alpha:\n",
    "    print('Result is statsitically significant - Reject null hypothesis')\n",
    "else:\n",
    "    print('Result is not statistically significant - Fail to reject null hypothesis')\n",
    "\n",
    "print(ts(X))\n",
    "#plt.plot(h, f)"
   ]
  },
  {
   "cell_type": "code",
   "execution_count": 113,
   "metadata": {},
   "outputs": [
    {
     "data": {
      "text/plain": [
       "-2.474737439682085"
      ]
     },
     "execution_count": 113,
     "metadata": {},
     "output_type": "execute_result"
    }
   ],
   "source": [
    "l = np.empty(len(d))\n",
    "for i in range(len(d)):\n",
    "    l[i] = (d[i]-X)**2  \n",
    "np.sqrt((1/(n-1))*(np.sum(l)))\n",
    "\n",
    "\n",
    "(13.2874-16)/1.8389\n",
    "\n",
    "(13.2874-16)*np.sqrt(11)/((13.2874-16)/1.8389)\n",
    "\n",
    "(5.92563-6.1)/.07046"
   ]
  },
  {
   "cell_type": "markdown",
   "metadata": {},
   "source": [
    "## Box and Whisker Plot"
   ]
  },
  {
   "cell_type": "code",
   "execution_count": 145,
   "metadata": {},
   "outputs": [
    {
     "data": {
      "image/png": "[encoded data removed]",
      "text/plain": [
       "<Figure size 432x288 with 2 Axes>"
      ]
     },
     "metadata": {
      "needs_background": "light"
     },
     "output_type": "display_data"
    }
   ],
   "source": [
    "points1 = np.array([213.03, 212.95, 213.04, 213.00, 212.99, 213.01, 221.03, 213.05])\n",
    "points2 = np.array([213.05, 213.00, 212.94, 213.09, 212.98, 213.02, 213.06, 212.99])\n",
    "plt.subplot(1,3,1)\n",
    "plt.boxplot(points1)\n",
    "plt.subplot(1,3,3)\n",
    "plt.boxplot(points2);"
   ]
  },
  {
   "cell_type": "code",
   "execution_count": 73,
   "metadata": {},
   "outputs": [
    {
     "name": "stdout",
     "output_type": "stream",
     "text": [
      "hours worked = 96.19058823529411\n",
      "[ 8.78       20.34941176  6.68        6.3        19.40470588 19.20588235\n",
      " 15.47058824]\n",
      "real hours worked = 97.205\n",
      "note to nicholas: do you not like girls like that?\n",
      "I think they are silly\n",
      "You think all girls are silly including me.....i dont feel special or in other words unique\n",
      "Reply to Vaitiare: I think they are silly in a different way, like not flattering.  But you are silly in a cute and VERY ATTRACTIVE way :)\n"
     ]
    }
   ],
   "source": [
    "pay = np.array([149.26/2, 172.97, 56.78, 53.55, 164.94, 163.25, 131.5])\n",
    "hours = np.array([17.65/2, 20.75, 6.68, 6.3, 19.7, 19.48, 15.47])\n",
    "print('hours worked =', sum(pay)/8.50)\n",
    "print(pay/8.50)\n",
    "print('real hours worked =', sum(hours))\n",
    "\n",
    "string = 'note to nicholas: do you not like girls like that?'\n",
    "\n",
    "print(string)\n",
    "print('I think they are silly')\n",
    "print('You think all girls are silly including me.....i dont feel special or in other words unique')\n",
    "print('Reply to Vaitiare: I think they are silly in a different way, like not flattering.  But you are silly in a cute and VERY ATTRACTIVE way :)')"
   ]
  },
  {
   "cell_type": "code",
   "execution_count": 7,
   "metadata": {},
   "outputs": [
    {
     "name": "stdout",
     "output_type": "stream",
     "text": [
      "205.3 1.3847382424126218 2.0771073636189326\n",
      "1.3233333333333335 0.4479735111216585\n"
     ]
    },
    {
     "data": {
      "image/png": "[encoded data removed]",
      "text/plain": [
       "<Figure size 432x288 with 2 Axes>"
      ]
     },
     "metadata": {
      "needs_background": "light"
     },
     "output_type": "display_data"
    }
   ],
   "source": [
    "#Graphing some data to compare skewness\n",
    "\n",
    "data1 = np.array([204.9, 206.1, 203.9, 207.0, 203.5, 206.3, 203.5, 206.7, 205.8])\n",
    "data2 = np.array([1.317, 1.318, 1.301, 1.307, 1.374, 1.323])\n",
    "    \n",
    "plt.subplot(1, 2, 1)\n",
    "plt.plot(data1, 'r*-')\n",
    "\n",
    "plt.subplot(1,2,2)\n",
    "plt.plot(data2, '.')\n",
    "plt.xlim\n",
    "\n",
    "mean1 = np.sum(data1)/len(data1)\n",
    "mean2 = np.sum(data2)/len(data2)\n",
    "\n",
    "#computing standard deviations--------------\n",
    "q = np.empty(len(data1))\n",
    "for i in range(len(data1)):\n",
    "    q[i] = (data1[i]-mean1)**2\n",
    "    \n",
    "r = np.empty(len(data1))\n",
    "for i in range(len(data2)):\n",
    "    r[i] = (data2[i]-mean2)**2 \n",
    "    \n",
    "stdev1 = np.sqrt((1/((len(data1)-1))*(np.sum(q))))\n",
    "stdev2 = np.sqrt((1/(len(data2)-1))*(np.sum(r)))\n",
    "print(mean1, stdev1, 1.5*stdev1)\n",
    "print(mean2, stdev2)"
   ]
  },
  {
   "cell_type": "code",
   "execution_count": 142,
   "metadata": {},
   "outputs": [],
   "source": [
    "import statsmodels.api as sm"
   ]
  },
  {
   "cell_type": "code",
   "execution_count": null,
   "metadata": {},
   "outputs": [],
   "source": []
  }
 ],
 "metadata": {
  "kernelspec": {
   "display_name": "Python 3",
   "language": "python",
   "name": "python3"
  },
  "language_info": {
   "codemirror_mode": {
    "name": "ipython",
    "version": 3
   },
   "file_extension": ".py",
   "mimetype": "text/x-python",
   "name": "python",
   "nbconvert_exporter": "python",
   "pygments_lexer": "ipython3",
   "version": "3.7.1"
  }
 },
 "nbformat": 4,
 "nbformat_minor": 2
}
