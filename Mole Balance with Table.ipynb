{
 "cells": [
  {
   "cell_type": "code",
   "execution_count": 248,
   "metadata": {},
   "outputs": [
    {
     "name": "stdout",
     "output_type": "stream",
     "text": [
      "\tMole Balance\n",
      "-------------------------------\n",
      " Species\t  In\t  Out\n",
      "  CH4  --------   100  \t   0   \n",
      "  O2   --------   206  \t   7   \n",
      "  N2   -------- 774.952\t774.952\n",
      "  CO   --------    0   \t   2   \n",
      "  CO2  --------    0   \t  98   \n",
      "  H2O  --------    0   \t  200  \n",
      "-------------------------------\n"
     ]
    }
   ],
   "source": [
    "import numpy as np\n",
    "\n",
    "n = {\"CH4\":[100,0],\n",
    "        \"O2\":  [0,0],\n",
    "        \"N2\":  [0,0],\n",
    "        \"CO\":  [0,0],\n",
    "        \"CO2\": [0,0],\n",
    "        \"H2O\": [0,0],}\n",
    "def balance(CH4):\n",
    "    #In = [0]\n",
    "    n[\"O2\"][0] = 1.03*2*n[\"CH4\"][0]\n",
    "    n[\"N2\"][0] = n[\"O2\"][0]/.21*.79\n",
    "    #Out = [1]\n",
    "    n[\"N2\"][1] = n['N2'][0]\n",
    "    n['CO'][1] = .02*n['CH4'][0]\n",
    "    n['CO2'][1] = .98*n['CH4'][0]\n",
    "    n['H2O'][1] = 2*n['CO2'][1] + 2*n['CO'][1]\n",
    "    n['O2'][1] = n['O2'][0] - 2*n[\"CO2\"][1] - 3/2*n[\"CO\"][1]\n",
    "    return n.items()\n",
    "\n",
    "print(f'\\tMole Balance')\n",
    "print(\"-------------------------------\")\n",
    "print(' Species\\t  In\\t  Out')\n",
    "for i, j in balance('CH4'):\n",
    "    print(f'{i:^7}-------- {j[0]:^7g}\\t{j[1]:^7g}')\n",
    "print(\"-------------------------------\")\n",
    "    \n",
    "\"\"\"\n",
    "This method was less effective\n",
    "\n",
    "In = {\"CH4\":100,\n",
    "     \"O2\":0,\n",
    "      \"N2\":0,\n",
    "     \"CO\":0,\n",
    "     \"CO2\":0,\n",
    "     \"H2O\":0,}\n",
    "Out = {\"CH4\":0,\n",
    "     \"O2\":0,\n",
    "      \"N2\":0,\n",
    "     \"CO\":0,\n",
    "     \"CO2\":0,\n",
    "     \"H2O\":0,}\n",
    "def Inbalance(CH4):\n",
    "    In[\"O2\"] = 1.03*2*In[\"CH4\"]\n",
    "    In[\"N2\"] = In[\"O2\"]/.21*.79\n",
    "    return In.items()\n",
    "def Outbalance(CH4):\n",
    "    Out[\"N2\"] = In[\"N2\"]\n",
    "    Out[\"CO\"] = .02*In[\"CH4\"]\n",
    "    Out[\"CO2\"] = .98*In[\"CH4\"]\n",
    "    Out[\"H2O\"] = 2*Out[\"CO2\"] + 2*Out[\"CO\"]\n",
    "    Out[\"O2\"] = In[\"O2\"] - 2*Out[\"CO2\"] - 3/2*Out[\"CO\"]\n",
    "    return Out.items()\n",
    "for i, j in Inbalance(\"CH4\"):\n",
    "        print(f'{i}\\t{j}')\n",
    "        \n",
    "    #print(f'{i}\\t{j:.5g}\\t{j}')\n",
    "        \n",
    "        \n",
    "\n",
    "print(\"Moles Out:\")\n",
    "for i, j in Outbalance(\"CH4\"):\n",
    "    print(f'{i}\\t{j:.5g}')\n",
    "\"\"\";"
   ]
  },
  {
   "cell_type": "code",
   "execution_count": 111,
   "metadata": {},
   "outputs": [
    {
     "ename": "SyntaxError",
     "evalue": "invalid syntax (<ipython-input-111-de06fe41ec1a>, line 7)",
     "output_type": "error",
     "traceback": [
      "\u001b[0;36m  File \u001b[0;32m\"<ipython-input-111-de06fe41ec1a>\"\u001b[0;36m, line \u001b[0;32m7\u001b[0m\n\u001b[0;31m    df=pd.DataFrame(, columns = ['name', 'age'])\u001b[0m\n\u001b[0m                    ^\u001b[0m\n\u001b[0;31mSyntaxError\u001b[0m\u001b[0;31m:\u001b[0m invalid syntax\n"
     ]
    }
   ],
   "source": [
    "import pandas as pd\n",
    "dic = {'Tim':[3,4], 'Kate':[2,3]}\n",
    "\n",
    "#Table = pd.DataFrame(In.items(), columns=[\"Species\", \"moles\"])\n",
    "#df = pd.DataFrame({'Tim':3, 'Kate':2,}.items(), columns=[\"name\", \"age\"]) \n",
    "\n",
    "df=pd.DataFrame(, columns = ['name', 'age'])\n",
    "df"
   ]
  },
  {
   "cell_type": "code",
   "execution_count": 35,
   "metadata": {},
   "outputs": [
    {
     "data": {
      "text/html": [
       "<div>\n",
       "<style scoped>\n",
       "    .dataframe tbody tr th:only-of-type {\n",
       "        vertical-align: middle;\n",
       "    }\n",
       "\n",
       "    .dataframe tbody tr th {\n",
       "        vertical-align: top;\n",
       "    }\n",
       "\n",
       "    .dataframe thead th {\n",
       "        text-align: right;\n",
       "    }\n",
       "</style>\n",
       "<table border=\"1\" class=\"dataframe\">\n",
       "  <thead>\n",
       "    <tr style=\"text-align: right;\">\n",
       "      <th></th>\n",
       "      <th>col1</th>\n",
       "      <th>col2</th>\n",
       "    </tr>\n",
       "  </thead>\n",
       "  <tbody>\n",
       "    <tr>\n",
       "      <th>0</th>\n",
       "      <td>1</td>\n",
       "      <td>3</td>\n",
       "    </tr>\n",
       "    <tr>\n",
       "      <th>1</th>\n",
       "      <td>2</td>\n",
       "      <td>4</td>\n",
       "    </tr>\n",
       "  </tbody>\n",
       "</table>\n",
       "</div>"
      ],
      "text/plain": [
       "   col1  col2\n",
       "0     1     3\n",
       "1     2     4"
      ]
     },
     "execution_count": 35,
     "metadata": {},
     "output_type": "execute_result"
    }
   ],
   "source": [
    "d = {'col1': [1, 2], 'col2': [3, 4]}\n",
    "df = pd.DataFrame(data=d)\n",
    "df"
   ]
  },
  {
   "cell_type": "code",
   "execution_count": 47,
   "metadata": {},
   "outputs": [
    {
     "name": "stdout",
     "output_type": "stream",
     "text": [
      "Name\tAge\n",
      "Tim\t3\n",
      "Kate\t4\n"
     ]
    }
   ],
   "source": [
    "dic = {'Tim':3, 'Kate':4}\n",
    "\n",
    "print('Name\\tAge')\n",
    "for name, age in dic.items():\n",
    "    print('{}\\t{}'.format(name, age))"
   ]
  },
  {
   "cell_type": "code",
   "execution_count": 129,
   "metadata": {},
   "outputs": [
    {
     "data": {
      "text/plain": [
       "227.2676"
      ]
     },
     "execution_count": 129,
     "metadata": {},
     "output_type": "execute_result"
    }
   ],
   "source": [
    "P2 = 2*101.325\n",
    "P1 = P2 + 13.56*20*980*100/1000/1000 + 1*980*10*100/1000/1000 - 1*980*30*100/1000/1000\n",
    "P1"
   ]
  }
 ],
 "metadata": {
  "kernelspec": {
   "display_name": "Python 3",
   "language": "python",
   "name": "python3"
  },
  "language_info": {
   "codemirror_mode": {
    "name": "ipython",
    "version": 3
   },
   "file_extension": ".py",
   "mimetype": "text/x-python",
   "name": "python",
   "nbconvert_exporter": "python",
   "pygments_lexer": "ipython3",
   "version": "3.7.1"
  }
 },
 "nbformat": 4,
 "nbformat_minor": 2
}
